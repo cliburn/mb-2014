{
 "metadata": {
  "name": "",
  "signature": "sha256:75c45a5b00e76a77d66d8a5bba63a045b340880c3ce86c521ede35b745323cb4"
 },
 "nbformat": 3,
 "nbformat_minor": 0,
 "worksheets": [
  {
   "cells": [
    {
     "cell_type": "code",
     "collapsed": false,
     "input": [
      "%load_ext rpy2.ipython "
     ],
     "language": "python",
     "metadata": {},
     "outputs": [],
     "prompt_number": 1
    },
    {
     "cell_type": "code",
     "collapsed": false,
     "input": [
      "from scipy.stats import chi2_contingency\n",
      "from pandas import DataFrame\n",
      "import statsmodels.api as sm \n",
      "from statsmodels.stats.api import anova_lm"
     ],
     "language": "python",
     "metadata": {},
     "outputs": [],
     "prompt_number": 33
    },
    {
     "cell_type": "code",
     "collapsed": false,
     "input": [
      "beta_genoytype = [0.05/0.95, log(1.9), long(2.2)]\n",
      "beta_additive = [0.05/0.95, log(1.9), log(3.8)]\n",
      "beta_dominant = [0.05/0.95, log(1.9), log(1.9)]\n",
      "beta_recessive = [0.05/0.95, 0, log(1.9)]"
     ],
     "language": "python",
     "metadata": {},
     "outputs": [],
     "prompt_number": 24
    },
    {
     "cell_type": "code",
     "collapsed": false,
     "input": [
      "def make_population(n, maf, beta):\n",
      "    \"\"\"Simulates case/control status based on minor allele frequecny (maf).\n",
      "    beta speicfies weights for genetic model.\n",
      "    Returns an n by 4 matrix, where first 3 columns are genotype\n",
      "    and last is status (0=control, 1 =case).\"\"\"\n",
      "\n",
      "    prob = [(1-maf)**2, 2*maf*(1-maf), maf**2]\n",
      "    genotype = random.multinomial(1, prob, n) \n",
      "    pcase = 1.0/(1.0 + exp(-(beta[0] + beta[1]*genotype[:,1] + beta[2]*genotype[:,2])))\n",
      "    status = random.binomial(1, pcase) # control=0, case=1\n",
      "    return hstack([genotype, status[:, np.newaxis]])\n",
      "\n",
      "def make_groups(pop, nctrl, ncase):\n",
      "    \"\"\"Make up subjects based on sampling from pop.\n",
      "    Samples with replacement since cannot guarantee\n",
      "    that there are enough cases/controls in pop.\n",
      "    Returns the genotypes matrix for ctrl, case).\"\"\"\n",
      "\n",
      "    status = pop[:,3]\n",
      "    pop_ctrl = pop[status==0, :]\n",
      "    pop_case = pop[status==1, :]\n",
      "    ctrl_idx = random.choice(len(pop_ctrl), nctrl)\n",
      "    case_idx = random.choice(len(pop_case), ncase)\n",
      "    return pop_ctrl[ctrl_idx, :3], pop_case[case_idx, :3]    \n",
      "\n",
      "def sim(nctrl, ncase, maf, beta):\n",
      "    \"\"\"Returns table of observed genotype frequencies in contrals and casse.\"\"\"\n",
      "\n",
      "    n = 10*(ncase + nctrl)\n",
      "    pop = make_population(n, maf, beta)\n",
      "    ctrl_gp, case_gp = make_groups(pop, nctrl, ncase)\n",
      "    return ctrl_gp, case_gp    "
     ],
     "language": "python",
     "metadata": {},
     "outputs": [],
     "prompt_number": 4
    },
    {
     "cell_type": "code",
     "collapsed": false,
     "input": [
      "nctrl = 1000\n",
      "ncase = 1000\n",
      "maf = 0.05\n",
      "beta = beta_additive\n",
      "\n",
      "bad_table = True\n",
      "while bad_table:\n",
      "    ctrl_gp, case_gp = sim(nctrl, ncase, maf, beta)\n",
      "    obs = vstack([ctrl_gp.sum(0), case_gp.sum(0)])\n",
      "    bad_table = np.any(obs.sum(0) == 0)\n",
      "    \n",
      "# Compare chisq test results from Python and R \n",
      "p_chi2 = chi2_contingency(obs)[1]\n",
      "%R -i obs -o r_p_chi2 r_p_chi2 <- chisq.test(obs)$p.value\n",
      "print \"Observations\\n\", obs\n",
      "print \">>>Py\", '%.8f' % p_chi2\n",
      "print \">>>R \", '%.8f' % r_p_chi2[0]"
     ],
     "language": "python",
     "metadata": {},
     "outputs": [
      {
       "output_type": "stream",
       "stream": "stdout",
       "text": [
        "Observations\n",
        "[[940  58   2]\n",
        " [877 121   2]]\n",
        ">>>Py 0.00000514\n",
        ">>>R  0.00000514\n"
       ]
      }
     ],
     "prompt_number": 5
    },
    {
     "cell_type": "code",
     "collapsed": false,
     "input": [
      "wts_additive = [[0, 1, 2]]\n",
      "wts_recessive = [[0, 0, 1]]\n",
      "wts_dominant = [[0, 1, 1]]\n",
      "wts_genotype = [[0,1,0], [0,1,1]]"
     ],
     "language": "python",
     "metadata": {},
     "outputs": []
    },
    {
     "cell_type": "code",
     "collapsed": false,
     "input": [
      "def coding(gp, wts):\n",
      "    \"\"\"Convert nx3 columns of allele data into genotype data.\n",
      "    Returns nx1 column for additive, recessvie and dominnat models.\n",
      "    Returns nx2 columns for genotype model.\n",
      "    \"\"\"\n",
      "    \n",
      "    return np.squeeze([dot(gp, wt) for wt in wts])"
     ],
     "language": "python",
     "metadata": {},
     "outputs": [],
     "prompt_number": 20
    },
    {
     "cell_type": "code",
     "collapsed": false,
     "input": [
      "wts = wts_additive\n",
      "y = np.hstack([zeros(len(ctrl_gp)), ones(len(case_gp))])\n",
      "x = np.hstack([coding(ctrl_gp, wts), coding(case_gp, wts)])\n",
      "df = DataFrame(array([y, x]).T, columns=('status', 'genotype'))"
     ],
     "language": "python",
     "metadata": {},
     "outputs": [],
     "prompt_number": 49
    },
    {
     "cell_type": "code",
     "collapsed": false,
     "input": [
      "sm.Logit.from_formula('y ~ x', data=df).fit().summary()"
     ],
     "language": "python",
     "metadata": {},
     "outputs": [
      {
       "output_type": "stream",
       "stream": "stdout",
       "text": [
        "Optimization terminated successfully.\n",
        "         Current function value: 0.687439\n",
        "         Iterations 4\n"
       ]
      },
      {
       "html": [
        "<table class=\"simpletable\">\n",
        "<caption>Logit Regression Results</caption>\n",
        "<tr>\n",
        "  <th>Dep. Variable:</th>         <td>y</td>        <th>  No. Observations:  </th>  <td>  2000</td>  \n",
        "</tr>\n",
        "<tr>\n",
        "  <th>Model:</th>               <td>Logit</td>      <th>  Df Residuals:      </th>  <td>  1998</td>  \n",
        "</tr>\n",
        "<tr>\n",
        "  <th>Method:</th>               <td>MLE</td>       <th>  Df Model:          </th>  <td>     1</td>  \n",
        "</tr>\n",
        "<tr>\n",
        "  <th>Date:</th>          <td>Mon, 02 Jun 2014</td> <th>  Pseudo R-squ.:     </th> <td>0.008236</td> \n",
        "</tr>\n",
        "<tr>\n",
        "  <th>Time:</th>              <td>07:55:48</td>     <th>  Log-Likelihood:    </th> <td> -1374.9</td> \n",
        "</tr>\n",
        "<tr>\n",
        "  <th>converged:</th>           <td>True</td>       <th>  LL-Null:           </th> <td> -1386.3</td> \n",
        "</tr>\n",
        "<tr>\n",
        "  <th> </th>                      <td> </td>        <th>  LLR p-value:       </th> <td>1.766e-06</td>\n",
        "</tr>\n",
        "</table>\n",
        "<table class=\"simpletable\">\n",
        "<tr>\n",
        "      <td></td>         <th>coef</th>     <th>std err</th>      <th>z</th>      <th>P>|z|</th> <th>[95.0% Conf. Int.]</th> \n",
        "</tr>\n",
        "<tr>\n",
        "  <th>Intercept</th> <td>   -0.0667</td> <td>    0.047</td> <td>   -1.421</td> <td> 0.155</td> <td>   -0.159     0.025</td>\n",
        "</tr>\n",
        "<tr>\n",
        "  <th>x</th>         <td>    0.7406</td> <td>    0.160</td> <td>    4.631</td> <td> 0.000</td> <td>    0.427     1.054</td>\n",
        "</tr>\n",
        "</table>"
       ],
       "metadata": {},
       "output_type": "pyout",
       "prompt_number": 139,
       "text": [
        "<class 'statsmodels.iolib.summary.Summary'>\n",
        "\"\"\"\n",
        "                           Logit Regression Results                           \n",
        "==============================================================================\n",
        "Dep. Variable:                      y   No. Observations:                 2000\n",
        "Model:                          Logit   Df Residuals:                     1998\n",
        "Method:                           MLE   Df Model:                            1\n",
        "Date:                Mon, 02 Jun 2014   Pseudo R-squ.:                0.008236\n",
        "Time:                        07:55:48   Log-Likelihood:                -1374.9\n",
        "converged:                       True   LL-Null:                       -1386.3\n",
        "                                        LLR p-value:                 1.766e-06\n",
        "==============================================================================\n",
        "                 coef    std err          z      P>|z|      [95.0% Conf. Int.]\n",
        "------------------------------------------------------------------------------\n",
        "Intercept     -0.0667      0.047     -1.421      0.155        -0.159     0.025\n",
        "x              0.7406      0.160      4.631      0.000         0.427     1.054\n",
        "==============================================================================\n",
        "\"\"\""
       ]
      }
     ],
     "prompt_number": 139
    },
    {
     "cell_type": "code",
     "collapsed": false,
     "input": [
      "%%R -i df -o fit,aov,p\n",
      "\n",
      "fit <- glm(status ~ genotype, family=\"binomial\", data=df)\n",
      "print(fit)\n",
      "\n",
      "aov <- anova(fit)\n",
      "df <- aov$Df[2]\n",
      "dev <- aov$Deviance[2]\n",
      "p <- 1 - pchisq(dev, df)"
     ],
     "language": "python",
     "metadata": {},
     "outputs": [
      {
       "metadata": {},
       "output_type": "display_data",
       "text": [
        "\n",
        "Call:  glm(formula = status ~ genotype, family = \"binomial\", data = df)\n",
        "\n",
        "Coefficients:\n",
        "(Intercept)     genotype  \n",
        "   -0.06669      0.74056  \n",
        "\n",
        "Degrees of Freedom: 1999 Total (i.e. Null);  1998 Residual\n",
        "Null Deviance:\t    2773 \n",
        "Residual Deviance: 2750 \tAIC: 2754\n",
        "[1] 1.765765e-06\n"
       ]
      }
     ],
     "prompt_number": 122
    },
    {
     "cell_type": "code",
     "collapsed": false,
     "input": [],
     "language": "python",
     "metadata": {},
     "outputs": []
    }
   ],
   "metadata": {}
  }
 ]
}