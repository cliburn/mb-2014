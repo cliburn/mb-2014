{
 "metadata": {
  "name": "",
  "signature": "sha256:e06d5a3224240be2a55842d408a2742de2973cc0f97d27d09b148b85d007875e"
 },
 "nbformat": 3,
 "nbformat_minor": 0,
 "worksheets": [
  {
   "cells": [
    {
     "cell_type": "code",
     "collapsed": false,
     "input": [
      "from functools import partial\n",
      "import scipy.stats as stats"
     ],
     "language": "python",
     "metadata": {},
     "outputs": [],
     "prompt_number": 8
    },
    {
     "cell_type": "code",
     "collapsed": false,
     "input": [
      "--pylab=inline\n",
      "\n",
      "import numpy as np\n",
      "from numpy import *\n",
      "import pylab\n",
      "from pylab import *\n",
      "import matplotlib.pyplot as plt\n"
     ],
     "language": "python",
     "metadata": {},
     "outputs": []
    },
    {
     "cell_type": "code",
     "collapsed": false,
     "input": [
      "# We want a bootstrap funciotn that will work for any distribution \n",
      "# and any statstiic of interest\n",
      "\n",
      "def bootstraps(nsim, nb, n, low, high, dist, statistic):\n",
      "    t = stats.t.ppf(high, n-1)\n",
      "\n",
      "    samples = []\n",
      "    t_samples = []\n",
      "    for i in xrange(nsim):\n",
      "        xs = dist(n)\n",
      "        mu, sd = xs.mean(), xs.std(ddof=1)\n",
      "        delta = (t*sd)/sqrt(n)\n",
      "        t_ci = [mu - delta, mu + delta]\n",
      "        t_samples.append(t_ci)\n",
      "        \n",
      "        sample = bootstrap(xs, nb, low, high, statistic)\n",
      "        samples.append(sample)\n",
      "    return np.array(samples), np.array(t_samples)\n",
      "        \n",
      "def bootstrap(xs, nb, low, high, statistic):\n",
      "    \"\"\"A simple bootstrap function.\n",
      "    n = number of bootstrap samples\n",
      "    low = lower percentile\n",
      "    high = upper percentile\n",
      "    dist = random number generator that will give n samples\n",
      "    statistic = boootstrap summary of interest\"\"\"\n",
      "    \n",
      "    bs = random.choice(xs, (nb, len(xs)), replace=True)\n",
      "    bss = np.apply_along_axis(statistic, 1, bs)\n",
      "    bss.sort()\n",
      "    return(np.percentile(bss, 100*low), np.percentile(bss, 100*high))"
     ],
     "language": "python",
     "metadata": {},
     "outputs": [],
     "prompt_number": 27
    },
    {
     "cell_type": "code",
     "collapsed": false,
     "input": [
      "nsim = 100\n",
      "low = 0.025\n",
      "high = 0.975\n",
      "statistic = mean\n",
      "\n",
      "dists = {\n",
      "    'normal': normal,\n",
      "    'chisquare': chisquare,\n",
      "    'exponential': exponential,\n",
      "}\n",
      "\n",
      "distributions =[('normal', 1, 1), ('chisquare', 1), ('exponential', 1)]\n",
      "nbs = [50, 100, 500]\n",
      "ns = [50, 100, 200]\n",
      "                \n",
      "results = {}\n",
      "for distribution in distributions:\n",
      "    for nb in nbs:\n",
      "        for n in ns:\n",
      "            key = (distribution[0], nb, n)\n",
      "            dist = partial(dists[distribution[0]], *distribution[1:])\n",
      "            results[key] = bootstraps(nsim, nb, n, low, high, dist, statistic)\n",
      "\n",
      "# for k in results:\n",
      "#     print k\n",
      "#     print results[k][0]\n",
      "#     print results[k][1]\n",
      "#     print\n",
      "    \n",
      "ss, ts = results[('exponential', 100, 50)]\n",
      "print sum((ss[:,0] < 1) & (1 < ss[:,1]))\n",
      "print sum((ts[:,0] < 1) & (1 < ts[:,1]))"
     ],
     "language": "python",
     "metadata": {},
     "outputs": [
      {
       "output_type": "stream",
       "stream": "stdout",
       "text": [
        "94\n",
        "95\n"
       ]
      }
     ],
     "prompt_number": 28
    },
    {
     "cell_type": "code",
     "collapsed": false,
     "input": [
      "plot(randn(10))"
     ],
     "language": "python",
     "metadata": {},
     "outputs": [
      {
       "metadata": {},
       "output_type": "pyout",
       "prompt_number": 29,
       "text": [
        "[<matplotlib.lines.Line2D at 0x10a4a4dd0>]"
       ]
      },
      {
       "metadata": {},
       "output_type": "display_data",
       "png": "[encoded data removed]",
       "text": [
        "<matplotlib.figure.Figure at 0x10a353a90>"
       ]
      }
     ],
     "prompt_number": 29
    },
    {
     "cell_type": "code",
     "collapsed": false,
     "input": [],
     "language": "python",
     "metadata": {},
     "outputs": []
    }
   ],
   "metadata": {}
  }
 ]
}