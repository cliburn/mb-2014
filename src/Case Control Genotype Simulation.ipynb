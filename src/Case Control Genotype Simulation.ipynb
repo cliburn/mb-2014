{
 "metadata": {
  "name": "",
  "signature": "sha256:5cb6b650b4bf8ab68aa0731e650a7b7ebedcf1c7ff76ef2bdb84aedaf9bd4c4b"
 },
 "nbformat": 3,
 "nbformat_minor": 0,
 "worksheets": [
  {
   "cells": [
    {
     "cell_type": "code",
     "collapsed": false,
     "input": [
      "%load_ext rpy2.ipython "
     ],
     "language": "python",
     "metadata": {},
     "outputs": [],
     "prompt_number": 1
    },
    {
     "cell_type": "code",
     "collapsed": false,
     "input": [
      "from scipy.stats import chi2_contingency"
     ],
     "language": "python",
     "metadata": {},
     "outputs": [],
     "prompt_number": 2
    },
    {
     "cell_type": "code",
     "collapsed": false,
     "input": [
      "beta_general = [0.05/0.95, log(1.9), long(2.2)]\n",
      "beta_additive = [0.05/0.95, log(1.9), log(3.8)]\n",
      "beta_dominant = [0.05/0.95, log(1.9), log(1.9)]\n",
      "beta_recessive = [0.05/0.95, 0, log(1.9)]"
     ],
     "language": "python",
     "metadata": {},
     "outputs": [],
     "prompt_number": 3
    },
    {
     "cell_type": "code",
     "collapsed": false,
     "input": [
      "def make_population(n, maf, beta):\n",
      "    \"\"\"Simulates case/control status based on minor allele frequecny (maf).\n",
      "    beta speicfies weights for genetic model.\n",
      "    Returns an n by 4 matrix, where first 3 columns are genotype\n",
      "    and last is status (0=control, 1 =case).\"\"\"\n",
      "\n",
      "    prob = [(1-maf)**2, 2*maf*(1-maf), maf**2]\n",
      "    genotype = random.multinomial(1, prob, n) \n",
      "    pcase = 1.0/(1.0 + exp(-(beta[0] + beta[1]*genotype[:,1] + beta[2]*genotype[:,2])))\n",
      "    status = random.binomial(1, pcase) # control=0, case=1\n",
      "    return hstack([genotype, status[:, np.newaxis]])\n",
      "\n",
      "def make_groups(pop, nctrl, ncase):\n",
      "    \"\"\"Make up subjects based on sampling from pop.\n",
      "    Samples with replacement since cannot guarantee\n",
      "    that there are enough cases/controls in pop.\n",
      "    Returns the genotypes matrix for ctrl, case).\"\"\"\n",
      "\n",
      "    status = pop[:,3]\n",
      "    pop_ctrl = pop[status==0, :]\n",
      "    pop_case = pop[status==1, :]\n",
      "    ctrl_idx = random.choice(len(pop_ctrl), nctrl)\n",
      "    case_idx = random.choice(len(pop_case), ncase)\n",
      "    return pop_ctrl[ctrl_idx, :3], pop_case[case_idx, :3]    \n",
      "\n",
      "def sim(nctrl, ncase, maf, beta):\n",
      "    \"\"\"Returns table of observed genotype frequencies in contrals and casse.\"\"\"\n",
      "\n",
      "    n = 10*(ncase + nctrl)\n",
      "    pop = make_population(n, maf, beta)\n",
      "    ctrl_gp, case_gp = make_groups(pop, nctrl, ncase)\n",
      "    obs = vstack([ctrl_gp.sum(0), case_gp.sum(0)])\n",
      "    return obs    "
     ],
     "language": "python",
     "metadata": {},
     "outputs": [],
     "prompt_number": 4
    },
    {
     "cell_type": "code",
     "collapsed": false,
     "input": [
      "nctrl = 1000\n",
      "ncase = 1000\n",
      "maf = 0.05\n",
      "beta = beta_additive\n",
      "\n",
      "bad_table = True\n",
      "while bad_table:\n",
      "    obs = sim(nctrl, ncase, maf, beta)\n",
      "    bad_table = np.any(obs.sum(0) == 0)\n",
      "    \n",
      "# Compare chisq test results from Python and R \n",
      "p_chi2 = chi2_contingency(obs)[1]\n",
      "%R -i obs -o r_p_chi2 r_p_chi2 <- chisq.test(obs)$p.value\n",
      "print \"Observations\\n\", obs\n",
      "print \">>>Py\", '%.8f' % p_chi2\n",
      "print \">>>R \", '%.8f' % r_p_chi2[0]"
     ],
     "language": "python",
     "metadata": {},
     "outputs": [
      {
       "output_type": "stream",
       "stream": "stdout",
       "text": [
        "Observations\n",
        "[[937  62   1]\n",
        " [882 115   3]]\n",
        ">>>Py 0.00009454\n",
        ">>>R  0.00009454\n"
       ]
      }
     ],
     "prompt_number": 5
    },
    {
     "cell_type": "code",
     "collapsed": false,
     "input": [],
     "language": "python",
     "metadata": {},
     "outputs": [],
     "prompt_number": 205
    }
   ],
   "metadata": {}
  }
 ]
}