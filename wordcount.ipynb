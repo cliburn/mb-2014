{
 "metadata": {
  "name": "",
  "signature": "sha256:0fae3aebfcbacd4b2a084da11af7ecdb17db06bf77357aaec25e2934c71856e6"
 },
 "nbformat": 3,
 "nbformat_minor": 0,
 "worksheets": [
  {
   "cells": [
    {
     "cell_type": "code",
     "collapsed": false,
     "input": [
      "def test_complement():\n",
      "    dna = 'ATCG'\n",
      "    ans = 'TAGC'\n",
      "    assert(complement(dna) == ans)"
     ],
     "language": "python",
     "metadata": {},
     "outputs": [],
     "prompt_number": 14
    },
    {
     "cell_type": "code",
     "collapsed": false,
     "input": [
      "def complement(seq):\n",
      "    \"\"\"Returns the complement of a DNA sequence.\"\"\"\n",
      "    rule = {'A' : 'T', 'T': 'A', 'C' : 'G', 'G' : 'C'}\n",
      "    ans = []\n",
      "    for s in seq:\n",
      "        ans.append(rule[s])\n",
      "    ans = ''.join(ans)\n",
      "    return ans"
     ],
     "language": "python",
     "metadata": {},
     "outputs": [],
     "prompt_number": 19
    },
    {
     "cell_type": "code",
     "collapsed": false,
     "input": [
      "test_complement()"
     ],
     "language": "python",
     "metadata": {},
     "outputs": [],
     "prompt_number": 18
    },
    {
     "cell_type": "heading",
     "level": 3,
     "metadata": {},
     "source": [
      "What are the top 10 most frequently used works in Pride and Prejudice?"
     ]
    },
    {
     "cell_type": "code",
     "collapsed": false,
     "input": [
      "import urllib2\n",
      "text = urllib2.urlopen('http://www.gutenberg.org/cache/epub/1342/pg1342.txt').read()"
     ],
     "language": "python",
     "metadata": {},
     "outputs": [],
     "prompt_number": 30
    },
    {
     "cell_type": "code",
     "collapsed": false,
     "input": [
      "import string"
     ],
     "language": "python",
     "metadata": {},
     "outputs": [],
     "prompt_number": 22
    },
    {
     "cell_type": "code",
     "collapsed": false,
     "input": [
      "text = string.translate(text, None, string.punctuation)"
     ],
     "language": "python",
     "metadata": {},
     "outputs": [],
     "prompt_number": 31
    },
    {
     "cell_type": "code",
     "collapsed": false,
     "input": [
      "text = text.lower()"
     ],
     "language": "python",
     "metadata": {},
     "outputs": [],
     "prompt_number": 32
    },
    {
     "cell_type": "code",
     "collapsed": false,
     "input": [
      "text = text.split()"
     ],
     "language": "python",
     "metadata": {},
     "outputs": [],
     "prompt_number": 37
    },
    {
     "cell_type": "code",
     "collapsed": false,
     "input": [
      "def test_word_count():\n",
      "    words = ['eat', 'sleep', 'read', 'sleep', 'seep', 'eat']\n",
      "    wc = word_count(words)\n",
      "    assert(wc['eat'] == 2)"
     ],
     "language": "python",
     "metadata": {},
     "outputs": [],
     "prompt_number": 39
    },
    {
     "cell_type": "code",
     "collapsed": false,
     "input": [
      "def word_count(words):\n",
      "    \"\"\"Returns a dictionary of the count of each word in words.\"\"\"\n",
      "    wc = {}\n",
      "    for word in words:\n",
      "        wc[word] = wc.get(word, 0) + 1\n",
      "    return wc"
     ],
     "language": "python",
     "metadata": {},
     "outputs": [],
     "prompt_number": 48
    },
    {
     "cell_type": "code",
     "collapsed": false,
     "input": [
      "test_word_count()"
     ],
     "language": "python",
     "metadata": {},
     "outputs": [],
     "prompt_number": 49
    },
    {
     "cell_type": "code",
     "collapsed": false,
     "input": [
      "wc = word_count(text)"
     ],
     "language": "python",
     "metadata": {},
     "outputs": [],
     "prompt_number": 57
    },
    {
     "cell_type": "code",
     "collapsed": false,
     "input": [
      "import operator"
     ],
     "language": "python",
     "metadata": {},
     "outputs": [],
     "prompt_number": 58
    },
    {
     "cell_type": "code",
     "collapsed": false,
     "input": [
      "sorted(wc.iteritems(), key=operator.itemgetter(1), reverse=True)[:10]"
     ],
     "language": "python",
     "metadata": {},
     "outputs": [
      {
       "metadata": {},
       "output_type": "pyout",
       "prompt_number": 61,
       "text": [
        "[('the', 4495),\n",
        " ('to', 4207),\n",
        " ('of', 3715),\n",
        " ('and', 3602),\n",
        " ('her', 2215),\n",
        " ('i', 2051),\n",
        " ('a', 1996),\n",
        " ('in', 1919),\n",
        " ('was', 1844),\n",
        " ('she', 1704)]"
       ]
      }
     ],
     "prompt_number": 61
    }
   ],
   "metadata": {}
  }
 ]
}